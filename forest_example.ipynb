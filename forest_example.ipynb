{
 "cells": [
  {
   "cell_type": "code",
   "execution_count": 2,
   "metadata": {},
   "outputs": [
    {
     "name": "stdout",
     "output_type": "stream",
     "text": [
      "Collecting wget\n",
      "  Downloading https://files.pythonhosted.org/packages/47/6a/62e288da7bcda82b935ff0c6cfe542970f04e29c756b0e147251b2fb251f/wget-3.2.zip\n",
      "Building wheels for collected packages: wget\n",
      "  Building wheel for wget (setup.py) ... \u001b[?25ldone\n",
      "\u001b[?25h  Stored in directory: /home/ubuntu/.cache/pip/wheels/40/15/30/7d8f7cea2902b4db79e3fea550d7d7b85ecb27ef992b618f3f\n",
      "Successfully built wget\n",
      "Installing collected packages: wget\n",
      "Successfully installed wget-3.2\n"
     ]
    }
   ],
   "source": [
    "!pip install wget"
   ]
  },
  {
   "cell_type": "code",
   "execution_count": 3,
   "metadata": {},
   "outputs": [],
   "source": [
    "from pytorch_tabnet import tab_network\n",
    "from pytorch_tabnet.tab_model import Model\n",
    "\n",
    "import torch\n",
    "from sklearn.preprocessing import LabelEncoder\n",
    "from sklearn.metrics import accuracy_score\n",
    "from sklearn.model_selection import train_test_split\n",
    "import pandas as pd\n",
    "import numpy as np\n",
    "np.random.seed(0)\n",
    "\n",
    "\n",
    "import os\n",
    "import wget\n",
    "from pathlib import Path\n",
    "import shutil\n",
    "import gzip"
   ]
  },
  {
   "cell_type": "markdown",
   "metadata": {},
   "source": [
    "# Download ForestCoverType dataset"
   ]
  },
  {
   "cell_type": "code",
   "execution_count": 18,
   "metadata": {},
   "outputs": [],
   "source": [
    "url = \"https://archive.ics.uci.edu/ml/machine-learning-databases/covtype/covtype.data.gz\"\n",
    "dataset_name = 'forest-cover-type'\n",
    "os.chdir('/mnt/nwilairat/training/')\n",
    "tmp_out = Path(os.getcwd()+'/Data/'+dataset_name+'.gz')\n",
    "out = Path(os.getcwd()+'/Data/'+dataset_name+'.csv')"
   ]
  },
  {
   "cell_type": "code",
   "execution_count": 19,
   "metadata": {},
   "outputs": [
    {
     "name": "stdout",
     "output_type": "stream",
     "text": [
      "File already exists.\n"
     ]
    }
   ],
   "source": [
    "out.parent.mkdir(parents=True, exist_ok=True)\n",
    "if out.exists():\n",
    "    print(\"File already exists.\")\n",
    "else:\n",
    "    print(\"Downloading file...\")\n",
    "    wget.download(url, tmp_out.as_posix())\n",
    "    with gzip.open(tmp_out, 'rb') as f_in:\n",
    "        with open(out, 'wb') as f_out:\n",
    "            shutil.copyfileobj(f_in, f_out)\n",
    "    \n"
   ]
  },
  {
   "cell_type": "markdown",
   "metadata": {},
   "source": [
    "# Load data and split\n",
    "Same split as in original paper"
   ]
  },
  {
   "cell_type": "code",
   "execution_count": 20,
   "metadata": {},
   "outputs": [],
   "source": [
    "target = \"Covertype\"\n",
    "\n",
    "bool_columns = [\n",
    "    \"Wilderness_Area1\", \"Wilderness_Area2\", \"Wilderness_Area3\",\n",
    "    \"Wilderness_Area4\", \"Soil_Type1\", \"Soil_Type2\", \"Soil_Type3\", \"Soil_Type4\",\n",
    "    \"Soil_Type5\", \"Soil_Type6\", \"Soil_Type7\", \"Soil_Type8\", \"Soil_Type9\",\n",
    "    \"Soil_Type10\", \"Soil_Type11\", \"Soil_Type12\", \"Soil_Type13\", \"Soil_Type14\",\n",
    "    \"Soil_Type15\", \"Soil_Type16\", \"Soil_Type17\", \"Soil_Type18\", \"Soil_Type19\",\n",
    "    \"Soil_Type20\", \"Soil_Type21\", \"Soil_Type22\", \"Soil_Type23\", \"Soil_Type24\",\n",
    "    \"Soil_Type25\", \"Soil_Type26\", \"Soil_Type27\", \"Soil_Type28\", \"Soil_Type29\",\n",
    "    \"Soil_Type30\", \"Soil_Type31\", \"Soil_Type32\", \"Soil_Type33\", \"Soil_Type34\",\n",
    "    \"Soil_Type35\", \"Soil_Type36\", \"Soil_Type37\", \"Soil_Type38\", \"Soil_Type39\",\n",
    "    \"Soil_Type40\"\n",
    "]\n",
    "\n",
    "int_columns = [\n",
    "    \"Elevation\", \"Aspect\", \"Slope\", \"Horizontal_Distance_To_Hydrology\",\n",
    "    \"Vertical_Distance_To_Hydrology\", \"Horizontal_Distance_To_Roadways\",\n",
    "    \"Hillshade_9am\", \"Hillshade_Noon\", \"Hillshade_3pm\",\n",
    "    \"Horizontal_Distance_To_Fire_Points\"\n",
    "]\n",
    "\n",
    "feature_columns = (\n",
    "    int_columns + bool_columns + [target])\n"
   ]
  },
  {
   "cell_type": "code",
   "execution_count": 21,
   "metadata": {},
   "outputs": [],
   "source": [
    "train = pd.read_csv(out, header=None, names=feature_columns)\n",
    "\n",
    "n_total = len(train)\n",
    "\n",
    "# Train, val and test split follows\n",
    "# Rory Mitchell, Andrey Adinets, Thejaswi Rao, and Eibe Frank.\n",
    "# Xgboost: Scalable GPU accelerated learning. arXiv:1806.11248, 2018.\n",
    "\n",
    "train_val_indices, test_indices = train_test_split(\n",
    "    range(n_total), test_size=0.2, random_state=0)\n",
    "train_indices, valid_indices = train_test_split(\n",
    "    train_val_indices, test_size=0.2 / 0.6, random_state=0)\n"
   ]
  },
  {
   "cell_type": "markdown",
   "metadata": {},
   "source": [
    "# Simple preprocessing\n",
    "\n",
    "Label encode categorical features and fill empty cells."
   ]
  },
  {
   "cell_type": "code",
   "execution_count": 22,
   "metadata": {},
   "outputs": [],
   "source": [
    "categorical_columns = []\n",
    "categorical_dims =  {}\n",
    "for col in train.columns[train.dtypes == object]:\n",
    "    print(col, train[col].nunique())\n",
    "    l_enc = LabelEncoder()\n",
    "    train[col] = train[col].fillna(\"VV_likely\")\n",
    "    train[col] = l_enc.fit_transform(train[col].values)\n",
    "    categorical_columns.append(col)\n",
    "    categorical_dims[col] = len(l_enc.classes_)\n",
    "\n",
    "for col in train.columns[train.dtypes == 'float64']:\n",
    "    train.fillna(train.loc[train_indices, col].mean(), inplace=True)"
   ]
  },
  {
   "cell_type": "markdown",
   "metadata": {},
   "source": [
    "# Define categorical features for categorical embeddings"
   ]
  },
  {
   "cell_type": "code",
   "execution_count": 23,
   "metadata": {},
   "outputs": [],
   "source": [
    "unused_feat = []\n",
    "\n",
    "features = [ col for col in train.columns if col not in unused_feat+[target]] \n",
    "\n",
    "cat_idxs = [ i for i, f in enumerate(features) if f in categorical_columns]\n",
    "\n",
    "cat_dims = [ categorical_dims[f] for i, f in enumerate(features) if f in categorical_columns]\n",
    "\n",
    "\n",
    "train[target] = train[target].astype(int)-1"
   ]
  },
  {
   "cell_type": "markdown",
   "metadata": {},
   "source": [
    "# Network parameters"
   ]
  },
  {
   "cell_type": "code",
   "execution_count": 24,
   "metadata": {},
   "outputs": [],
   "source": [
    "num_workers= 5\n",
    "LR = 2e-2\n",
    "batch_size = 16384 #64\n",
    "mini_batch_size = 256\n",
    "device = 'cuda' if torch.cuda.is_available() else 'cpu'"
   ]
  },
  {
   "cell_type": "code",
   "execution_count": 25,
   "metadata": {},
   "outputs": [],
   "source": [
    "network_params = {\"input_dim\" : len(features),\n",
    "                  \"n_d\" : 32,\n",
    "                  \"n_a\" : 32,\n",
    "                  \"n_independent\": 2,\n",
    "                  \"n_shared\": 2,\n",
    "                  \"n_steps\": 6,\n",
    "                  \"gamma\": 1.5,\n",
    "                  \"output_dim\" :7,\n",
    "                  \"momentum\": 0.3,\n",
    "                  \"cat_idxs\":cat_idxs,\n",
    "                  \"cat_dims\": cat_dims,\n",
    "                  \"cat_emb_dim\": 1,\n",
    "                  \"virtual_batch_size\": mini_batch_size,\n",
    "}\n",
    "\n",
    "description = f\"test_TabNet_LR_{LR}_BS_{batch_size}_DS_{dataset_name}\"\n",
    "description += f\"_miniBS_{mini_batch_size}\"\n",
    "description += f\"_nd_{network_params['n_d']}\"\n",
    "description += f\"_na_{network_params['n_a']}\"\n",
    "description += f\"_nsteps_{network_params['n_steps']}\"\n",
    "description += f\"_gamma_{network_params['gamma']}\"\n",
    "description += f\"_momentum_{network_params['momentum']}\""
   ]
  },
  {
   "cell_type": "code",
   "execution_count": 26,
   "metadata": {},
   "outputs": [],
   "source": [
    "my_scheduler = torch.optim.lr_scheduler.StepLR\n",
    "scheduler_params = {\"gamma\": 0.95,\n",
    "                    \"step_size\": 20}\n",
    "\n",
    "training_params = {\"model_name\": description,\n",
    "                   \"lambda_sparse\": 1e-4,\n",
    "                   \"lr\":LR,\n",
    "                   \"patience\": 60,\n",
    "                   \"optimizer_fn\":torch.optim.Adam,\n",
    "                   \"scheduler_fn\": my_scheduler,\n",
    "                   \"scheduler_params\":scheduler_params,\n",
    "                   \"max_epochs\": 800,\n",
    "                   \"batch_size\": batch_size,\n",
    "                   \"clip_value\": 2.0,\n",
    "                   \"device\":device\n",
    "                  }"
   ]
  },
  {
   "cell_type": "markdown",
   "metadata": {},
   "source": [
    "# Training"
   ]
  },
  {
   "cell_type": "code",
   "execution_count": 27,
   "metadata": {},
   "outputs": [],
   "source": [
    "X_train = train.iloc[train_indices][features].values\n",
    "y_train = train.iloc[train_indices][target].values\n",
    "\n",
    "X_valid = train.iloc[valid_indices][features].values\n",
    "y_valid = train.iloc[valid_indices][target].values\n",
    "\n",
    "X_test = train.iloc[test_indices][features].values\n",
    "y_test = train.iloc[test_indices][target].values"
   ]
  },
  {
   "cell_type": "code",
   "execution_count": 28,
   "metadata": {
    "scrolled": false
   },
   "outputs": [
    {
     "data": {
      "image/png": "[encoded data removed]",
      "text/plain": [
       "<Figure size 1080x360 with 2 Axes>"
      ]
     },
     "metadata": {
      "needs_background": "light"
     },
     "output_type": "display_data"
    }
   ],
   "source": [
    "network = tab_network.TabNet\n",
    "model = Model()\n",
    "\n",
    "\n",
    "model.def_network(network, **network_params)\n",
    "model.set_params(**training_params)\n",
    "\n",
    "model.fit(\n",
    "    X_train=X_train, y_train=y_train,\n",
    "    X_valid=X_valid, y_valid=y_valid\n",
    ") "
   ]
  },
  {
   "cell_type": "code",
   "execution_count": 29,
   "metadata": {},
   "outputs": [
    {
     "name": "stdout",
     "output_type": "stream",
     "text": [
      "BEST VALID SCORE FOR forest-cover-type : -0.9558594783686273\n",
      "FINAL TEST SCORE FOR forest-cover-type : 0.9570923298021565\n"
     ]
    }
   ],
   "source": [
    "model.load_best_model()\n",
    "\n",
    "preds, M_explain, masks = model.predict_proba(X_test)\n",
    "\n",
    "y_true = y_test\n",
    "\n",
    "test_acc = accuracy_score(y_pred=np.argmax(preds, axis=1), y_true=y_true)\n",
    "\n",
    "print(f\"BEST VALID SCORE FOR {dataset_name} : {model.best_cost}\")\n",
    "print(f\"FINAL TEST SCORE FOR {dataset_name} : {test_acc}\")"
   ]
  },
  {
   "cell_type": "markdown",
   "metadata": {},
   "source": [
    "# XGB"
   ]
  },
  {
   "cell_type": "code",
   "execution_count": null,
   "metadata": {
    "scrolled": true
   },
   "outputs": [
    {
     "name": "stdout",
     "output_type": "stream",
     "text": [
      "[0]\tvalidation_0-merror:0.218469\n",
      "Will train until validation_0-merror hasn't improved in 40 rounds.\n",
      "[10]\tvalidation_0-merror:0.194363\n",
      "[20]\tvalidation_0-merror:0.183817\n",
      "[30]\tvalidation_0-merror:0.177046\n",
      "[40]\tvalidation_0-merror:0.170682\n",
      "[50]\tvalidation_0-merror:0.161917\n",
      "[60]\tvalidation_0-merror:0.156154\n",
      "[70]\tvalidation_0-merror:0.15059\n",
      "[80]\tvalidation_0-merror:0.145504\n",
      "[90]\tvalidation_0-merror:0.141838\n",
      "[100]\tvalidation_0-merror:0.136681\n",
      "[110]\tvalidation_0-merror:0.131892\n",
      "[120]\tvalidation_0-merror:0.126948\n",
      "[130]\tvalidation_0-merror:0.123366\n",
      "[140]\tvalidation_0-merror:0.118332\n",
      "[150]\tvalidation_0-merror:0.11433\n",
      "[160]\tvalidation_0-merror:0.110451\n",
      "[170]\tvalidation_0-merror:0.106127\n",
      "[180]\tvalidation_0-merror:0.102893\n",
      "[190]\tvalidation_0-merror:0.099318\n",
      "[200]\tvalidation_0-merror:0.0962\n",
      "[210]\tvalidation_0-merror:0.093774\n",
      "[220]\tvalidation_0-merror:0.090488\n",
      "[230]\tvalidation_0-merror:0.088133\n",
      "[240]\tvalidation_0-merror:0.085273\n",
      "[250]\tvalidation_0-merror:0.082982\n",
      "[260]\tvalidation_0-merror:0.080523\n",
      "[270]\tvalidation_0-merror:0.078735\n",
      "[280]\tvalidation_0-merror:0.07658\n",
      "[290]\tvalidation_0-merror:0.07465\n",
      "[300]\tvalidation_0-merror:0.073204\n",
      "[310]\tvalidation_0-merror:0.071849\n",
      "[320]\tvalidation_0-merror:0.070016\n",
      "[330]\tvalidation_0-merror:0.069202\n",
      "[340]\tvalidation_0-merror:0.06764\n",
      "[350]\tvalidation_0-merror:0.066291\n",
      "[360]\tvalidation_0-merror:0.065414\n",
      "[370]\tvalidation_0-merror:0.064174\n",
      "[380]\tvalidation_0-merror:0.063297\n",
      "[390]\tvalidation_0-merror:0.062206\n",
      "[400]\tvalidation_0-merror:0.060883\n",
      "[410]\tvalidation_0-merror:0.059766\n",
      "[420]\tvalidation_0-merror:0.058927\n",
      "[430]\tvalidation_0-merror:0.058256\n",
      "[440]\tvalidation_0-merror:0.057327\n",
      "[450]\tvalidation_0-merror:0.056358\n",
      "[460]\tvalidation_0-merror:0.055571\n",
      "[470]\tvalidation_0-merror:0.054835\n",
      "[480]\tvalidation_0-merror:0.054287\n",
      "[490]\tvalidation_0-merror:0.053706\n",
      "[500]\tvalidation_0-merror:0.053131\n",
      "[510]\tvalidation_0-merror:0.052602\n",
      "[520]\tvalidation_0-merror:0.052279\n",
      "[530]\tvalidation_0-merror:0.051589\n",
      "[540]\tvalidation_0-merror:0.051143\n",
      "[550]\tvalidation_0-merror:0.050569\n",
      "[560]\tvalidation_0-merror:0.05022\n",
      "[570]\tvalidation_0-merror:0.049782\n",
      "[580]\tvalidation_0-merror:0.049459\n",
      "[590]\tvalidation_0-merror:0.049039\n",
      "[600]\tvalidation_0-merror:0.0488\n",
      "[610]\tvalidation_0-merror:0.048368\n",
      "[620]\tvalidation_0-merror:0.048026\n",
      "[630]\tvalidation_0-merror:0.047529\n",
      "[640]\tvalidation_0-merror:0.047387\n",
      "[650]\tvalidation_0-merror:0.047226\n",
      "[660]\tvalidation_0-merror:0.046845\n",
      "[670]\tvalidation_0-merror:0.046612\n",
      "[680]\tvalidation_0-merror:0.046303\n",
      "[690]\tvalidation_0-merror:0.045961\n",
      "[700]\tvalidation_0-merror:0.045664\n",
      "[710]\tvalidation_0-merror:0.045457\n",
      "[720]\tvalidation_0-merror:0.045238\n",
      "[730]\tvalidation_0-merror:0.044857\n",
      "[740]\tvalidation_0-merror:0.044586\n",
      "[750]\tvalidation_0-merror:0.044366\n",
      "[760]\tvalidation_0-merror:0.04425\n",
      "[770]\tvalidation_0-merror:0.044018\n",
      "[780]\tvalidation_0-merror:0.043721\n",
      "[790]\tvalidation_0-merror:0.043379\n",
      "[800]\tvalidation_0-merror:0.043172\n",
      "[810]\tvalidation_0-merror:0.04305\n",
      "[820]\tvalidation_0-merror:0.042669\n",
      "[830]\tvalidation_0-merror:0.042553\n",
      "[840]\tvalidation_0-merror:0.042469\n",
      "[850]\tvalidation_0-merror:0.042288\n",
      "[860]\tvalidation_0-merror:0.042204\n",
      "[870]\tvalidation_0-merror:0.042043\n"
     ]
    }
   ],
   "source": [
    "from xgboost import XGBClassifier\n",
    "\n",
    "clf = XGBClassifier(max_depth=8,\n",
    "    learning_rate=0.1,\n",
    "    n_estimators=1000,\n",
    "    verbosity=0,\n",
    "    silent=None,\n",
    "    objective=\"multi:softmax\",\n",
    "    booster='gbtree',\n",
    "    n_jobs=-1,\n",
    "    nthread=None,\n",
    "    gamma=0,\n",
    "    min_child_weight=1,\n",
    "    max_delta_step=0,\n",
    "    subsample=0.7,\n",
    "    colsample_bytree=1,\n",
    "    colsample_bylevel=1,\n",
    "    colsample_bynode=1,\n",
    "    reg_alpha=0,\n",
    "    reg_lambda=1,\n",
    "    scale_pos_weight=1,\n",
    "    base_score=0.5,\n",
    "    random_state=0,\n",
    "    seed=None,)\n",
    "\n",
    "clf.fit(X_train, y_train,\n",
    "        eval_set=[(X_valid, y_valid)],\n",
    "        early_stopping_rounds=40,\n",
    "        verbose=10)"
   ]
  },
  {
   "cell_type": "code",
   "execution_count": 32,
   "metadata": {},
   "outputs": [
    {
     "name": "stdout",
     "output_type": "stream",
     "text": [
      "0.9597255658751621\n",
      "0.9604227085359242\n"
     ]
    }
   ],
   "source": [
    "preds_valid = np.array(clf.predict_proba(X_valid, ))\n",
    "valid_acc = accuracy_score(y_pred=np.argmax(preds_valid, axis=1), y_true=y_valid)\n",
    "print(valid_acc)\n",
    "\n",
    "preds_test = np.array(clf.predict_proba(X_test))\n",
    "test_acc = accuracy_score(y_pred=np.argmax(preds_test, axis=1), y_true=y_test)\n",
    "print(test_acc)"
   ]
  },
  {
   "cell_type": "code",
   "execution_count": null,
   "metadata": {},
   "outputs": [],
   "source": []
  }
 ],
 "metadata": {
  "kernelspec": {
   "display_name": "Python 3",
   "language": "python",
   "name": "python3"
  },
  "language_info": {
   "codemirror_mode": {
    "name": "ipython",
    "version": 3
   },
   "file_extension": ".py",
   "mimetype": "text/x-python",
   "name": "python",
   "nbconvert_exporter": "python",
   "pygments_lexer": "ipython3",
   "version": "3.6.6"
  }
 },
 "nbformat": 4,
 "nbformat_minor": 2
}
